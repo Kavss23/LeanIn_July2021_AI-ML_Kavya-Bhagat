{
  "nbformat": 4,
  "nbformat_minor": 0,
  "metadata": {
    "colab": {
      "name": "KavyaBhagat_Assignment2_LanguageModelling.ipynb",
      "provenance": [],
      "collapsed_sections": [],
      "include_colab_link": true
    },
    "kernelspec": {
      "name": "python3",
      "display_name": "Python 3"
    }
  },
  "cells": [
    {
      "cell_type": "markdown",
      "metadata": {
        "id": "view-in-github",
        "colab_type": "text"
      },
      "source": [
        "<a href=\"https://colab.research.google.com/github/Kavss23/LeanIn_July2021_AI-ML_Kavya-Bhagat/blob/main/KavyaBhagat_Assignment2_LanguageModelling.ipynb\" target=\"_parent\"><img src=\"https://colab.research.google.com/assets/colab-badge.svg\" alt=\"Open In Colab\"/></a>"
      ]
    },
    {
      "cell_type": "markdown",
      "metadata": {
        "id": "IWKrX8WZAUQN"
      },
      "source": [
        "converting all letters to lower or upper case                                                \n",
        " removing numbers                                                                    \n",
        "removing punctuations, accent marks and other diacritics                              \n",
        "removing white spaces                                       \n",
        "removing stop words"
      ]
    },
    {
      "cell_type": "code",
      "metadata": {
        "id": "A6gBrj2UrSx6"
      },
      "source": [
        "from google.colab import drive\n",
        "drive.mount('/content/drive')"
      ],
      "execution_count": null,
      "outputs": []
    },
    {
      "cell_type": "code",
      "metadata": {
        "colab": {
          "base_uri": "https://localhost:8080/"
        },
        "id": "dJw6twQ3BMZr",
        "outputId": "972d2324-83d5-421b-ad48-eaeadda50ff9"
      },
      "source": [
        "import re\n",
        "import matplotlib\n",
        "import numpy as np\n",
        "import matplotlib.pyplot as plt\n",
        "import pandas as pd\n",
        "import string\n",
        "\n",
        "from nltk.corpus import stopwords\n",
        "import nltk\n",
        "import numba\n",
        "from numba import jit\n",
        "\n",
        "nltk.download('stopwords')\n",
        "nltk.download('punkt')\n",
        "nltk.download('averaged_perceptron_tagger')\n"
      ],
      "execution_count": 1,
      "outputs": [
        {
          "output_type": "stream",
          "text": [
            "[nltk_data] Downloading package stopwords to /root/nltk_data...\n",
            "[nltk_data]   Unzipping corpora/stopwords.zip.\n",
            "[nltk_data] Downloading package punkt to /root/nltk_data...\n",
            "[nltk_data]   Unzipping tokenizers/punkt.zip.\n",
            "[nltk_data] Downloading package averaged_perceptron_tagger to\n",
            "[nltk_data]     /root/nltk_data...\n",
            "[nltk_data]   Unzipping taggers/averaged_perceptron_tagger.zip.\n"
          ],
          "name": "stdout"
        },
        {
          "output_type": "execute_result",
          "data": {
            "text/plain": [
              "True"
            ]
          },
          "metadata": {
            "tags": []
          },
          "execution_count": 1
        }
      ]
    },
    {
      "cell_type": "code",
      "metadata": {
        "colab": {
          "base_uri": "https://localhost:8080/"
        },
        "id": "qNwyFLk48CsF",
        "outputId": "9e182e0d-6920-4ca1-9405-f8437ecb56dc"
      },
      "source": [
        "!unzip english_dataset.zip\n",
        "!rm -rf english_dataset.zip"
      ],
      "execution_count": 2,
      "outputs": [
        {
          "output_type": "stream",
          "text": [
            "Archive:  english_dataset.zip\n",
            "   creating: english_dataset/\n",
            "  inflating: __MACOSX/._english_dataset  \n",
            "  inflating: english_dataset/english_dataset.tsv  \n",
            "  inflating: __MACOSX/english_dataset/._english_dataset.tsv  \n",
            "  inflating: english_dataset/hasoc2019_en_test-2919.tsv  \n",
            "  inflating: __MACOSX/english_dataset/._hasoc2019_en_test-2919.tsv  \n"
          ],
          "name": "stdout"
        }
      ]
    },
    {
      "cell_type": "code",
      "metadata": {
        "colab": {
          "base_uri": "https://localhost:8080/",
          "height": 1000
        },
        "id": "u83E8I_4sHRS",
        "outputId": "680ee368-6bfe-4a42-ccd7-6656e5982058"
      },
      "source": [
        "english_en=pd.read_csv('/content/english_dataset/english_dataset.tsv',delimiter='\\t')\n",
        "english_en.head(50)"
      ],
      "execution_count": 3,
      "outputs": [
        {
          "output_type": "execute_result",
          "data": {
            "text/html": [
              "<div>\n",
              "<style scoped>\n",
              "    .dataframe tbody tr th:only-of-type {\n",
              "        vertical-align: middle;\n",
              "    }\n",
              "\n",
              "    .dataframe tbody tr th {\n",
              "        vertical-align: top;\n",
              "    }\n",
              "\n",
              "    .dataframe thead th {\n",
              "        text-align: right;\n",
              "    }\n",
              "</style>\n",
              "<table border=\"1\" class=\"dataframe\">\n",
              "  <thead>\n",
              "    <tr style=\"text-align: right;\">\n",
              "      <th></th>\n",
              "      <th>text_id</th>\n",
              "      <th>text</th>\n",
              "      <th>task_1</th>\n",
              "      <th>task_2</th>\n",
              "      <th>task_3</th>\n",
              "    </tr>\n",
              "  </thead>\n",
              "  <tbody>\n",
              "    <tr>\n",
              "      <th>0</th>\n",
              "      <td>hasoc_en_1</td>\n",
              "      <td>#DhoniKeepsTheGlove | WATCH: Sports Minister K...</td>\n",
              "      <td>NOT</td>\n",
              "      <td>NONE</td>\n",
              "      <td>NONE</td>\n",
              "    </tr>\n",
              "    <tr>\n",
              "      <th>1</th>\n",
              "      <td>hasoc_en_2</td>\n",
              "      <td>@politico No. We should remember very clearly ...</td>\n",
              "      <td>HOF</td>\n",
              "      <td>HATE</td>\n",
              "      <td>TIN</td>\n",
              "    </tr>\n",
              "    <tr>\n",
              "      <th>2</th>\n",
              "      <td>hasoc_en_3</td>\n",
              "      <td>@cricketworldcup Guess who would be the winner...</td>\n",
              "      <td>NOT</td>\n",
              "      <td>NONE</td>\n",
              "      <td>NONE</td>\n",
              "    </tr>\n",
              "    <tr>\n",
              "      <th>3</th>\n",
              "      <td>hasoc_en_4</td>\n",
              "      <td>Corbyn is too politically intellectual for #Bo...</td>\n",
              "      <td>NOT</td>\n",
              "      <td>NONE</td>\n",
              "      <td>NONE</td>\n",
              "    </tr>\n",
              "    <tr>\n",
              "      <th>4</th>\n",
              "      <td>hasoc_en_5</td>\n",
              "      <td>All the best to #TeamIndia for another swimmin...</td>\n",
              "      <td>NOT</td>\n",
              "      <td>NONE</td>\n",
              "      <td>NONE</td>\n",
              "    </tr>\n",
              "    <tr>\n",
              "      <th>5</th>\n",
              "      <td>hasoc_en_6</td>\n",
              "      <td>@kellymiller513 @TheRealOJ32 I hope you rememb...</td>\n",
              "      <td>NOT</td>\n",
              "      <td>NONE</td>\n",
              "      <td>NONE</td>\n",
              "    </tr>\n",
              "    <tr>\n",
              "      <th>6</th>\n",
              "      <td>hasoc_en_7</td>\n",
              "      <td>@ICC Latest design of #WC2019 trophy. #CWC2019...</td>\n",
              "      <td>NOT</td>\n",
              "      <td>NONE</td>\n",
              "      <td>NONE</td>\n",
              "    </tr>\n",
              "    <tr>\n",
              "      <th>7</th>\n",
              "      <td>hasoc_en_8</td>\n",
              "      <td>#ADOS #trendingnow #blacklivesmatter #justice ...</td>\n",
              "      <td>HOF</td>\n",
              "      <td>PRFN</td>\n",
              "      <td>TIN</td>\n",
              "    </tr>\n",
              "    <tr>\n",
              "      <th>8</th>\n",
              "      <td>hasoc_en_9</td>\n",
              "      <td>Thanks for your support! Wow 600k. Graffiti ha...</td>\n",
              "      <td>NOT</td>\n",
              "      <td>NONE</td>\n",
              "      <td>NONE</td>\n",
              "    </tr>\n",
              "    <tr>\n",
              "      <th>9</th>\n",
              "      <td>hasoc_en_10</td>\n",
              "      <td>By wearing the #BalidaanBadge over his gloves ...</td>\n",
              "      <td>NOT</td>\n",
              "      <td>NONE</td>\n",
              "      <td>NONE</td>\n",
              "    </tr>\n",
              "    <tr>\n",
              "      <th>10</th>\n",
              "      <td>hasoc_en_11</td>\n",
              "      <td>Mahendra Singh Dhoni's love for the Nation, Ar...</td>\n",
              "      <td>NOT</td>\n",
              "      <td>NONE</td>\n",
              "      <td>NONE</td>\n",
              "    </tr>\n",
              "    <tr>\n",
              "      <th>11</th>\n",
              "      <td>hasoc_en_12</td>\n",
              "      <td>I don’t know how much more I can take! 45 is a...</td>\n",
              "      <td>HOF</td>\n",
              "      <td>HATE</td>\n",
              "      <td>TIN</td>\n",
              "    </tr>\n",
              "    <tr>\n",
              "      <th>12</th>\n",
              "      <td>hasoc_en_13</td>\n",
              "      <td>#ShameOnICC@ICC WINNER TEAM-RAIN  ICC RUN UP T...</td>\n",
              "      <td>NOT</td>\n",
              "      <td>NONE</td>\n",
              "      <td>NONE</td>\n",
              "    </tr>\n",
              "    <tr>\n",
              "      <th>13</th>\n",
              "      <td>hasoc_en_14</td>\n",
              "      <td>@narendramodi  @pmoindia_namo  @narendramodi  ...</td>\n",
              "      <td>NOT</td>\n",
              "      <td>NONE</td>\n",
              "      <td>NONE</td>\n",
              "    </tr>\n",
              "    <tr>\n",
              "      <th>14</th>\n",
              "      <td>hasoc_en_15</td>\n",
              "      <td>ICC denies request from BCCI to allow MSD wear...</td>\n",
              "      <td>NOT</td>\n",
              "      <td>NONE</td>\n",
              "      <td>NONE</td>\n",
              "    </tr>\n",
              "    <tr>\n",
              "      <th>15</th>\n",
              "      <td>hasoc_en_16</td>\n",
              "      <td>Good work @ICC keep going just destroy the who...</td>\n",
              "      <td>HOF</td>\n",
              "      <td>PRFN</td>\n",
              "      <td>TIN</td>\n",
              "    </tr>\n",
              "    <tr>\n",
              "      <th>16</th>\n",
              "      <td>hasoc_en_17</td>\n",
              "      <td>Wow, you're full of it @MattHancock   #BorisJo...</td>\n",
              "      <td>NOT</td>\n",
              "      <td>NONE</td>\n",
              "      <td>NONE</td>\n",
              "    </tr>\n",
              "    <tr>\n",
              "      <th>17</th>\n",
              "      <td>hasoc_en_18</td>\n",
              "      <td>All Indian spectators shd hv #BalidanBadge in ...</td>\n",
              "      <td>NOT</td>\n",
              "      <td>NONE</td>\n",
              "      <td>NONE</td>\n",
              "    </tr>\n",
              "    <tr>\n",
              "      <th>18</th>\n",
              "      <td>hasoc_en_19</td>\n",
              "      <td>@ICC  @BCCI  What about Virat Kholi tattoos 😂😂...</td>\n",
              "      <td>NOT</td>\n",
              "      <td>NONE</td>\n",
              "      <td>NONE</td>\n",
              "    </tr>\n",
              "    <tr>\n",
              "      <th>19</th>\n",
              "      <td>hasoc_en_20</td>\n",
              "      <td>Which is more important?  #IndiaWithDhoni   #D...</td>\n",
              "      <td>NOT</td>\n",
              "      <td>NONE</td>\n",
              "      <td>NONE</td>\n",
              "    </tr>\n",
              "    <tr>\n",
              "      <th>20</th>\n",
              "      <td>hasoc_en_21</td>\n",
              "      <td>@KBMteam @iowaspeedway @HBurtonRacing @rileyhe...</td>\n",
              "      <td>NOT</td>\n",
              "      <td>NONE</td>\n",
              "      <td>NONE</td>\n",
              "    </tr>\n",
              "    <tr>\n",
              "      <th>21</th>\n",
              "      <td>hasoc_en_22</td>\n",
              "      <td>Harbor N Bay Mens Boxer Short Pack of 2 @ Rs.2...</td>\n",
              "      <td>NOT</td>\n",
              "      <td>NONE</td>\n",
              "      <td>NONE</td>\n",
              "    </tr>\n",
              "    <tr>\n",
              "      <th>22</th>\n",
              "      <td>hasoc_en_23</td>\n",
              "      <td>ICC turns down #BCCI's request to allow @msdho...</td>\n",
              "      <td>NOT</td>\n",
              "      <td>NONE</td>\n",
              "      <td>NONE</td>\n",
              "    </tr>\n",
              "    <tr>\n",
              "      <th>23</th>\n",
              "      <td>hasoc_en_24</td>\n",
              "      <td>#ShameOnICC  1. ICC on Dhoni's gloves         ...</td>\n",
              "      <td>HOF</td>\n",
              "      <td>HATE</td>\n",
              "      <td>TIN</td>\n",
              "    </tr>\n",
              "    <tr>\n",
              "      <th>24</th>\n",
              "      <td>hasoc_en_25</td>\n",
              "      <td>Senior #Doctors of #RGKar greeted with applaus...</td>\n",
              "      <td>NOT</td>\n",
              "      <td>NONE</td>\n",
              "      <td>NONE</td>\n",
              "    </tr>\n",
              "    <tr>\n",
              "      <th>25</th>\n",
              "      <td>hasoc_en_26</td>\n",
              "      <td>Empty podiums make too much noise     #ToryLea...</td>\n",
              "      <td>NOT</td>\n",
              "      <td>NONE</td>\n",
              "      <td>NONE</td>\n",
              "    </tr>\n",
              "    <tr>\n",
              "      <th>26</th>\n",
              "      <td>hasoc_en_27</td>\n",
              "      <td>#ShameOnICC #iccworldcup2019 world cup reality...</td>\n",
              "      <td>NOT</td>\n",
              "      <td>NONE</td>\n",
              "      <td>NONE</td>\n",
              "    </tr>\n",
              "    <tr>\n",
              "      <th>27</th>\n",
              "      <td>hasoc_en_28</td>\n",
              "      <td>Disgusting! And they don’t change their cultur...</td>\n",
              "      <td>HOF</td>\n",
              "      <td>HATE</td>\n",
              "      <td>TIN</td>\n",
              "    </tr>\n",
              "    <tr>\n",
              "      <th>28</th>\n",
              "      <td>hasoc_en_29</td>\n",
              "      <td>GOQii VITAL - Colour Display Blood Pressure Mo...</td>\n",
              "      <td>NOT</td>\n",
              "      <td>NONE</td>\n",
              "      <td>NONE</td>\n",
              "    </tr>\n",
              "    <tr>\n",
              "      <th>29</th>\n",
              "      <td>hasoc_en_30</td>\n",
              "      <td>500 doctors have already resigned in #Bengal. ...</td>\n",
              "      <td>NOT</td>\n",
              "      <td>NONE</td>\n",
              "      <td>NONE</td>\n",
              "    </tr>\n",
              "    <tr>\n",
              "      <th>30</th>\n",
              "      <td>hasoc_en_31</td>\n",
              "      <td>Hi everyone, I'm in Kolkata and just thought I...</td>\n",
              "      <td>NOT</td>\n",
              "      <td>NONE</td>\n",
              "      <td>NONE</td>\n",
              "    </tr>\n",
              "    <tr>\n",
              "      <th>31</th>\n",
              "      <td>hasoc_en_32</td>\n",
              "      <td>@BCCI @ICC @englandcricket Worst ever world cu...</td>\n",
              "      <td>NOT</td>\n",
              "      <td>NONE</td>\n",
              "      <td>NONE</td>\n",
              "    </tr>\n",
              "    <tr>\n",
              "      <th>32</th>\n",
              "      <td>hasoc_en_33</td>\n",
              "      <td>@realDonaldTrump fuck you and go fuck yourself...</td>\n",
              "      <td>HOF</td>\n",
              "      <td>PRFN</td>\n",
              "      <td>TIN</td>\n",
              "    </tr>\n",
              "    <tr>\n",
              "      <th>33</th>\n",
              "      <td>hasoc_en_34</td>\n",
              "      <td>Donald Trump lies.  #TrumpIsATraitor   Happy #...</td>\n",
              "      <td>NOT</td>\n",
              "      <td>NONE</td>\n",
              "      <td>NONE</td>\n",
              "    </tr>\n",
              "    <tr>\n",
              "      <th>34</th>\n",
              "      <td>hasoc_en_35</td>\n",
              "      <td>@TheRealOJ32 Of all the retired NFL players, w...</td>\n",
              "      <td>HOF</td>\n",
              "      <td>HATE</td>\n",
              "      <td>TIN</td>\n",
              "    </tr>\n",
              "    <tr>\n",
              "      <th>35</th>\n",
              "      <td>hasoc_en_36</td>\n",
              "      <td>The Telegraph´s use of the word ´crown´ with r...</td>\n",
              "      <td>NOT</td>\n",
              "      <td>NONE</td>\n",
              "      <td>NONE</td>\n",
              "    </tr>\n",
              "    <tr>\n",
              "      <th>36</th>\n",
              "      <td>hasoc_en_37</td>\n",
              "      <td>#DoctorsFightBack | No doctor wishes to stop e...</td>\n",
              "      <td>NOT</td>\n",
              "      <td>NONE</td>\n",
              "      <td>NONE</td>\n",
              "    </tr>\n",
              "    <tr>\n",
              "      <th>37</th>\n",
              "      <td>hasoc_en_38</td>\n",
              "      <td>@timesofindia No worries @timesofindia because...</td>\n",
              "      <td>NOT</td>\n",
              "      <td>NONE</td>\n",
              "      <td>NONE</td>\n",
              "    </tr>\n",
              "    <tr>\n",
              "      <th>38</th>\n",
              "      <td>hasoc_en_39</td>\n",
              "      <td>Will @ImRo45 score a 100 again today?  Predict...</td>\n",
              "      <td>NOT</td>\n",
              "      <td>NONE</td>\n",
              "      <td>NONE</td>\n",
              "    </tr>\n",
              "    <tr>\n",
              "      <th>39</th>\n",
              "      <td>hasoc_en_40</td>\n",
              "      <td>DON'T support a country Who has Concentration ...</td>\n",
              "      <td>NOT</td>\n",
              "      <td>NONE</td>\n",
              "      <td>NONE</td>\n",
              "    </tr>\n",
              "    <tr>\n",
              "      <th>40</th>\n",
              "      <td>hasoc_en_41</td>\n",
              "      <td>#DhoniKeepsTheGlove@ICC you are zero without d...</td>\n",
              "      <td>NOT</td>\n",
              "      <td>NONE</td>\n",
              "      <td>NONE</td>\n",
              "    </tr>\n",
              "    <tr>\n",
              "      <th>41</th>\n",
              "      <td>hasoc_en_42</td>\n",
              "      <td>@ashwinnagar @MamataOfficial For interest of p...</td>\n",
              "      <td>NOT</td>\n",
              "      <td>NONE</td>\n",
              "      <td>NONE</td>\n",
              "    </tr>\n",
              "    <tr>\n",
              "      <th>42</th>\n",
              "      <td>hasoc_en_43</td>\n",
              "      <td>Now if all remaining matches will get washed  ...</td>\n",
              "      <td>NOT</td>\n",
              "      <td>NONE</td>\n",
              "      <td>NONE</td>\n",
              "    </tr>\n",
              "    <tr>\n",
              "      <th>43</th>\n",
              "      <td>hasoc_en_44</td>\n",
              "      <td>@Werdnat This crazy Manbaby will probably pain...</td>\n",
              "      <td>HOF</td>\n",
              "      <td>PRFN</td>\n",
              "      <td>TIN</td>\n",
              "    </tr>\n",
              "    <tr>\n",
              "      <th>44</th>\n",
              "      <td>hasoc_en_45</td>\n",
              "      <td>This is everything. #fucktrump https://t.co/e2...</td>\n",
              "      <td>HOF</td>\n",
              "      <td>PRFN</td>\n",
              "      <td>TIN</td>\n",
              "    </tr>\n",
              "    <tr>\n",
              "      <th>45</th>\n",
              "      <td>hasoc_en_46</td>\n",
              "      <td>@AMISHDEVGAN Where were the IMA &amp;amp; other as...</td>\n",
              "      <td>NOT</td>\n",
              "      <td>NONE</td>\n",
              "      <td>NONE</td>\n",
              "    </tr>\n",
              "    <tr>\n",
              "      <th>46</th>\n",
              "      <td>hasoc_en_47</td>\n",
              "      <td>Hey Trump ! These lovely ladies got something ...</td>\n",
              "      <td>HOF</td>\n",
              "      <td>PRFN</td>\n",
              "      <td>TIN</td>\n",
              "    </tr>\n",
              "    <tr>\n",
              "      <th>47</th>\n",
              "      <td>hasoc_en_48</td>\n",
              "      <td>I love this bill, I think they should start pr...</td>\n",
              "      <td>HOF</td>\n",
              "      <td>PRFN</td>\n",
              "      <td>TIN</td>\n",
              "    </tr>\n",
              "    <tr>\n",
              "      <th>48</th>\n",
              "      <td>hasoc_en_49</td>\n",
              "      <td>So basically he’s not vegan #dickhead 🙄 https:...</td>\n",
              "      <td>HOF</td>\n",
              "      <td>PRFN</td>\n",
              "      <td>TIN</td>\n",
              "    </tr>\n",
              "    <tr>\n",
              "      <th>49</th>\n",
              "      <td>hasoc_en_50</td>\n",
              "      <td>@TheRealOJ32 The world will rejoice when you d...</td>\n",
              "      <td>HOF</td>\n",
              "      <td>OFFN</td>\n",
              "      <td>TIN</td>\n",
              "    </tr>\n",
              "  </tbody>\n",
              "</table>\n",
              "</div>"
            ],
            "text/plain": [
              "        text_id  ... task_3\n",
              "0    hasoc_en_1  ...   NONE\n",
              "1    hasoc_en_2  ...    TIN\n",
              "2    hasoc_en_3  ...   NONE\n",
              "3    hasoc_en_4  ...   NONE\n",
              "4    hasoc_en_5  ...   NONE\n",
              "5    hasoc_en_6  ...   NONE\n",
              "6    hasoc_en_7  ...   NONE\n",
              "7    hasoc_en_8  ...    TIN\n",
              "8    hasoc_en_9  ...   NONE\n",
              "9   hasoc_en_10  ...   NONE\n",
              "10  hasoc_en_11  ...   NONE\n",
              "11  hasoc_en_12  ...    TIN\n",
              "12  hasoc_en_13  ...   NONE\n",
              "13  hasoc_en_14  ...   NONE\n",
              "14  hasoc_en_15  ...   NONE\n",
              "15  hasoc_en_16  ...    TIN\n",
              "16  hasoc_en_17  ...   NONE\n",
              "17  hasoc_en_18  ...   NONE\n",
              "18  hasoc_en_19  ...   NONE\n",
              "19  hasoc_en_20  ...   NONE\n",
              "20  hasoc_en_21  ...   NONE\n",
              "21  hasoc_en_22  ...   NONE\n",
              "22  hasoc_en_23  ...   NONE\n",
              "23  hasoc_en_24  ...    TIN\n",
              "24  hasoc_en_25  ...   NONE\n",
              "25  hasoc_en_26  ...   NONE\n",
              "26  hasoc_en_27  ...   NONE\n",
              "27  hasoc_en_28  ...    TIN\n",
              "28  hasoc_en_29  ...   NONE\n",
              "29  hasoc_en_30  ...   NONE\n",
              "30  hasoc_en_31  ...   NONE\n",
              "31  hasoc_en_32  ...   NONE\n",
              "32  hasoc_en_33  ...    TIN\n",
              "33  hasoc_en_34  ...   NONE\n",
              "34  hasoc_en_35  ...    TIN\n",
              "35  hasoc_en_36  ...   NONE\n",
              "36  hasoc_en_37  ...   NONE\n",
              "37  hasoc_en_38  ...   NONE\n",
              "38  hasoc_en_39  ...   NONE\n",
              "39  hasoc_en_40  ...   NONE\n",
              "40  hasoc_en_41  ...   NONE\n",
              "41  hasoc_en_42  ...   NONE\n",
              "42  hasoc_en_43  ...   NONE\n",
              "43  hasoc_en_44  ...    TIN\n",
              "44  hasoc_en_45  ...    TIN\n",
              "45  hasoc_en_46  ...   NONE\n",
              "46  hasoc_en_47  ...    TIN\n",
              "47  hasoc_en_48  ...    TIN\n",
              "48  hasoc_en_49  ...    TIN\n",
              "49  hasoc_en_50  ...    TIN\n",
              "\n",
              "[50 rows x 5 columns]"
            ]
          },
          "metadata": {
            "tags": []
          },
          "execution_count": 3
        }
      ]
    },
    {
      "cell_type": "markdown",
      "metadata": {
        "id": "10S5OPlK8VXa"
      },
      "source": [
        "# **Converting into lowercase**"
      ]
    },
    {
      "cell_type": "code",
      "metadata": {
        "colab": {
          "base_uri": "https://localhost:8080/"
        },
        "id": "6HZXtgCZkiyE",
        "outputId": "abd86c05-2cc3-4e24-d4b9-363d039d45c6"
      },
      "source": [
        "#lowercase\n",
        "\n",
        "english_lower=english_en\n",
        "english_lower[\"text\"].str.lower()\n",
        "\n",
        "\n",
        "\n",
        "\n"
      ],
      "execution_count": null,
      "outputs": [
        {
          "output_type": "execute_result",
          "data": {
            "text/plain": [
              "0       #dhonikeepstheglove | watch: sports minister k...\n",
              "1       @politico no. we should remember very clearly ...\n",
              "2       @cricketworldcup guess who would be the winner...\n",
              "3       corbyn is too politically intellectual for #bo...\n",
              "4       all the best to #teamindia for another swimmin...\n",
              "                              ...                        \n",
              "5847    @davidfrum @trueblueusa1 that's cute and all, ...\n",
              "5848    a recession issa comin' #maga #magamyass #fuck...\n",
              "5849    #doctorsfightback  will 'the mad n irrational ...\n",
              "5850    #shiningindia #educatedindia or more like rund...\n",
              "5851    could this be our new prime minister?     #ric...\n",
              "Name: text, Length: 5852, dtype: object"
            ]
          },
          "metadata": {
            "tags": []
          },
          "execution_count": 108
        }
      ]
    },
    {
      "cell_type": "markdown",
      "metadata": {
        "id": "ND7bQkF0vyGv"
      },
      "source": [
        "# **CONVERTING INTO UPPER CASE**"
      ]
    },
    {
      "cell_type": "code",
      "metadata": {
        "colab": {
          "base_uri": "https://localhost:8080/"
        },
        "id": "Ivf63sglv4l5",
        "outputId": "f8d1eb02-2f03-4ce6-dbf4-aa4bad2dffc8"
      },
      "source": [
        "#uppercase\n",
        "english_upper=english_en\n",
        "english_upper['text'].str.upper()\n"
      ],
      "execution_count": null,
      "outputs": [
        {
          "output_type": "execute_result",
          "data": {
            "text/plain": [
              "0       DHONIKEEPSTHEGLOVE  WATCH SPORTS MINISTER KIRE...\n",
              "1       POLITICO NO WE SHOULD REMEMBER VERY CLEARLY TH...\n",
              "2       CRICKETWORLDCUP GUESS WHO WOULD BE THE WINNER ...\n",
              "3       CORBYN IS TOO POLITICALLY INTELLECTUAL FOR BOR...\n",
              "4       ALL THE BEST TO TEAMINDIA FOR ANOTHER SWIMMING...\n",
              "                              ...                        \n",
              "5847    DAVIDFRUM TRUEBLUEUSA1 THATS CUTE AND ALL BUT ...\n",
              "5848      A RECESSION ISSA COMIN MAGA MAGAMYASS FUCKTRUMP\n",
              "5849    DOCTORSFIGHTBACK  WILL THE MAD N IRRATIONAL DI...\n",
              "5850    SHININGINDIA EDUCATEDINDIA OR MORE LIKE RUNDIA...\n",
              "5851    COULD THIS BE OUR NEW PRIME MINISTER     RICHW...\n",
              "Name: text, Length: 5852, dtype: object"
            ]
          },
          "metadata": {
            "tags": []
          },
          "execution_count": 128
        }
      ]
    },
    {
      "cell_type": "markdown",
      "metadata": {
        "id": "hQhiI_jcws6r"
      },
      "source": [
        "# **REMOVING NUMBERS**"
      ]
    },
    {
      "cell_type": "code",
      "metadata": {
        "colab": {
          "base_uri": "https://localhost:8080/"
        },
        "id": "AxnFgBvew0fJ",
        "outputId": "68de55ca-3ebb-4384-d157-f47576010477"
      },
      "source": [
        "english_en=pd.read_csv('/content/english_dataset/english_dataset.tsv',delimiter='\\t')\n",
        "english_num=english_en\n",
        "english_num['text'] = english_num['text'].str.replace('\\d+', '')\n",
        "english_num['text'].head(10)\n",
        "\n",
        "\n"
      ],
      "execution_count": 13,
      "outputs": [
        {
          "output_type": "execute_result",
          "data": {
            "text/plain": [
              "0    #DhoniKeepsTheGlove | WATCH: Sports Minister K...\n",
              "1    @politico No. We should remember very clearly ...\n",
              "2    @cricketworldcup Guess who would be the winner...\n",
              "3    Corbyn is too politically intellectual for #Bo...\n",
              "4    All the best to #TeamIndia for another swimmin...\n",
              "5    @kellymiller @TheRealOJ I hope you remembered ...\n",
              "6    @ICC Latest design of #WC trophy. #CWC #CWC #S...\n",
              "7    #ADOS #trendingnow #blacklivesmatter #justice ...\n",
              "8    Thanks for your support! Wow k. Graffiti has a...\n",
              "9    By wearing the #BalidaanBadge over his gloves ...\n",
              "Name: text, dtype: object"
            ]
          },
          "metadata": {
            "tags": []
          },
          "execution_count": 13
        }
      ]
    },
    {
      "cell_type": "markdown",
      "metadata": {
        "id": "wGUuJGjY7L0y"
      },
      "source": [
        "# **removing punctuations, accent marks and other diacritics**"
      ]
    },
    {
      "cell_type": "code",
      "metadata": {
        "id": "LbR8dYX27Sf3",
        "colab": {
          "base_uri": "https://localhost:8080/"
        },
        "outputId": "a340d189-81d1-4ee3-8919-698ea2fdd9f4"
      },
      "source": [
        "english_en=pd.read_csv('/content/english_dataset/english_dataset.tsv',delimiter='\\t')\n",
        "punctuations = '''''!()-[]{};:'\"\\,<>./?@#$%^&*_~'''  \n",
        "english_punc=english_en\n",
        "english_punc['text'] = english_punc['text'].str.replace('[^\\w\\s]','')\n",
        "english_punc['text'].head(15)\n"
      ],
      "execution_count": 33,
      "outputs": [
        {
          "output_type": "execute_result",
          "data": {
            "text/plain": [
              "0     DhoniKeepsTheGlove  WATCH Sports Minister Kire...\n",
              "1     politico No We should remember very clearly th...\n",
              "2     cricketworldcup Guess who would be the winner ...\n",
              "3     Corbyn is too politically intellectual for Bor...\n",
              "4     All the best to TeamIndia for another swimming...\n",
              "5     kellymiller513 TheRealOJ32 I hope you remember...\n",
              "6     ICC Latest design of WC2019 trophy CWC2019 CWC...\n",
              "7     ADOS trendingnow blacklivesmatter justice fuck...\n",
              "8     Thanks for your support Wow 600k Graffiti has ...\n",
              "9     By wearing the BalidaanBadge over his gloves m...\n",
              "10    Mahendra Singh Dhonis love for the Nation Arme...\n",
              "11    I dont know how much more I can take 45 is a c...\n",
              "12    ShameOnICCICC WINNER TEAMRAIN  ICC RUN UP TEAM...\n",
              "13    narendramodi  pmoindia_namo  narendramodi  PMO...\n",
              "14    ICC denies request from BCCI to allow MSD wear...\n",
              "Name: text, dtype: object"
            ]
          },
          "metadata": {
            "tags": []
          },
          "execution_count": 33
        }
      ]
    },
    {
      "cell_type": "markdown",
      "metadata": {
        "id": "QbbH_GLeZeaN"
      },
      "source": [
        "# **Removing white spaces**"
      ]
    },
    {
      "cell_type": "code",
      "metadata": {
        "colab": {
          "base_uri": "https://localhost:8080/"
        },
        "id": "7zduzx6SZ3-j",
        "outputId": "571706c3-c399-49af-a7b0-632de3f89669"
      },
      "source": [
        "english_en=pd.read_csv('/content/english_dataset/english_dataset.tsv',delimiter='\\t')\n",
        "english_white=english_en\n",
        "english_white['text']=english_white['text'].str.strip()\n",
        "english_white['text']\n"
      ],
      "execution_count": null,
      "outputs": [
        {
          "output_type": "execute_result",
          "data": {
            "text/plain": [
              "0       #DhoniKeepsTheGlove | WATCH: Sports Minister K...\n",
              "1       @politico No. We should remember very clearly ...\n",
              "2       @cricketworldcup Guess who would be the winner...\n",
              "3       Corbyn is too politically intellectual for #Bo...\n",
              "4       All the best to #TeamIndia for another swimmin...\n",
              "                              ...                        \n",
              "5847    @davidfrum @trueblueusa1 That's cute and all, ...\n",
              "5848    a recession issa comin' #maga #magamyass #fuck...\n",
              "5849    #DoctorsFightBack  Will 'The Mad n Irrational ...\n",
              "5850    #ShiningIndia #educatedindia or more like RUND...\n",
              "5851    Could this be our new Prime Minister?     #Ric...\n",
              "Name: text, Length: 5852, dtype: object"
            ]
          },
          "metadata": {
            "tags": []
          },
          "execution_count": 144
        }
      ]
    },
    {
      "cell_type": "markdown",
      "metadata": {
        "id": "kL3l9M67mz0d"
      },
      "source": [
        "# **Removing stop words**"
      ]
    },
    {
      "cell_type": "code",
      "metadata": {
        "id": "WS_kAye1m4Us",
        "colab": {
          "base_uri": "https://localhost:8080/"
        },
        "outputId": "5090ee55-ef5f-4b66-fefd-1230cf20ef27"
      },
      "source": [
        "from nltk.tokenize import word_tokenize\n",
        "english_en=pd.read_csv('/content/english_dataset/english_dataset.tsv',delimiter='\\t')\n",
        "stop=stopwords.words('english')\n",
        "\n",
        "english_en['text']=english_en['text'].apply(word_tokenize)\n",
        "english_en['text']=english_en['text'].apply(lambda x:[item for  item in x if item not in stop])\n",
        "english_en['text'].head(10)\n"
      ],
      "execution_count": 34,
      "outputs": [
        {
          "output_type": "execute_result",
          "data": {
            "text/plain": [
              "0    [#, DhoniKeepsTheGlove, |, WATCH, :, Sports, M...\n",
              "1    [@, politico, No, ., We, remember, clearly, #,...\n",
              "2    [@, cricketworldcup, Guess, would, winner, #, ...\n",
              "3    [Corbyn, politically, intellectual, #, BorisJo...\n",
              "4    [All, best, #, TeamIndia, another, swimming, c...\n",
              "5    [@, kellymiller513, @, TheRealOJ32, I, hope, r...\n",
              "6    [@, ICC, Latest, design, #, WC2019, trophy, .,...\n",
              "7    [#, ADOS, #, trendingnow, #, blacklivesmatter,...\n",
              "8    [Thanks, support, !, Wow, 600k, ., Graffiti, m...\n",
              "9    [By, wearing, #, BalidaanBadge, gloves, @, msd...\n",
              "Name: text, dtype: object"
            ]
          },
          "metadata": {
            "tags": []
          },
          "execution_count": 34
        }
      ]
    }
  ]
}